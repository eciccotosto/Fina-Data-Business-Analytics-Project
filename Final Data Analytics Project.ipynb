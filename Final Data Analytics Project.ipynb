{
 "cells": [
  {
   "cell_type": "code",
   "execution_count": 1,
   "id": "7986314b",
   "metadata": {},
   "outputs": [
    {
     "name": "stderr",
     "output_type": "stream",
     "text": [
      "[nltk_data] Downloading package punkt to\n",
      "[nltk_data]     /Users/emmaciccotosto/nltk_data...\n",
      "[nltk_data]   Unzipping tokenizers/punkt.zip.\n",
      "[nltk_data] Downloading package stopwords to\n",
      "[nltk_data]     /Users/emmaciccotosto/nltk_data...\n",
      "[nltk_data]   Unzipping corpora/stopwords.zip.\n"
     ]
    },
    {
     "data": {
      "text/plain": [
       "True"
      ]
     },
     "execution_count": 1,
     "metadata": {},
     "output_type": "execute_result"
    }
   ],
   "source": [
    "import nltk\n",
    "nltk.download('punkt')\n",
    "nltk.download('stopwords')"
   ]
  },
  {
   "cell_type": "code",
   "execution_count": null,
   "id": "1783dd20",
   "metadata": {},
   "outputs": [],
   "source": [
    "import pandas as pd\n",
    "import nltk\n",
    "from nltk.tokenize import word_tokenize\n",
    "from nltk.corpus import stopwords\n",
    "from nltk.stem import SnowballStemmer\n",
    "from collections import Counter\n",
    "import matplotlib.pyplot as plt\n",
    "\n",
    "# Load the dataframe\n",
    "df = pd.read_csv(\"\")\n",
    "\n",
    "# Tokenize the text data\n",
    "df['symptoms'] = df['symptoms'].apply(word_tokenize)\n",
    "\n",
    "# Remove stop words\n",
    "stop_words = set(stopwords.words('english'))\n",
    "df['symptoms'] = df['symptoms'].apply(lambda x: [word for word in x if word.lower() not in stop_words])\n",
    "\n",
    "# Stem the words\n",
    "stemmer = SnowballStemmer(\"english\")\n",
    "df['symptoms'] = df['symptoms'].apply(lambda x: [stemmer.stem(word) for word in x])\n",
    "\n",
    "# Count the frequency of each symptom\n",
    "symptoms_count = Counter(symptom for symptom_list in df['symptoms'] for symptom in symptom_list)\n",
    "\n",
    "# Visualize the results\n",
    "plt.bar(symptoms_count.keys(), symptoms_count.values())\n",
    "plt.show()\n",
    "\n",
    "# Print the most frequent symptoms\n",
    "print(symptoms_count.most_common(10))"
   ]
  }
 ],
 "metadata": {
  "kernelspec": {
   "display_name": "Python 3 (ipykernel)",
   "language": "python",
   "name": "python3"
  },
  "language_info": {
   "codemirror_mode": {
    "name": "ipython",
    "version": 3
   },
   "file_extension": ".py",
   "mimetype": "text/x-python",
   "name": "python",
   "nbconvert_exporter": "python",
   "pygments_lexer": "ipython3",
   "version": "3.9.12"
  }
 },
 "nbformat": 4,
 "nbformat_minor": 5
}
